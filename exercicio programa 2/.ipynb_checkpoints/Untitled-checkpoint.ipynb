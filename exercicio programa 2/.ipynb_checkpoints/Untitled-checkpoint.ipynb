{
 "cells": [
  {
   "cell_type": "code",
   "execution_count": 5,
   "metadata": {},
   "outputs": [],
   "source": [
    "from scipy import integrate\n",
    "from math import sqrt\n",
    "from numpy import arange"
   ]
  },
  {
   "cell_type": "code",
   "execution_count": 6,
   "metadata": {},
   "outputs": [],
   "source": [
    "def integral(f, x, a, b, n):\n",
    "    h = (b - a)/n\n",
    "    integral = 0\n",
    "    for i in arange(a+h, b, h):\n",
    "        integral += (h/2)*f(x, i)\n",
    "    integral *= 2\n",
    "    integral += (h/2)*f(x, a)\n",
    "    integral += (h/2)*f(x, b)\n",
    "    return integral"
   ]
  },
  {
   "cell_type": "code",
   "execution_count": 11,
   "metadata": {},
   "outputs": [
    {
     "name": "stdout",
     "output_type": "stream",
     "text": [
      "0.7421035626620429\n"
     ]
    }
   ],
   "source": [
    "x0 = 0.005\n",
    "yinf = 0.650\n",
    "g = lambda x, y: y**2/sqrt(x**2 + y**2)\n",
    "f = lambda x: x - x0 - 3 * (integral(g, x, x0, yinf, 100))"
   ]
  },
  {
   "cell_type": "code",
   "execution_count": 12,
   "metadata": {},
   "outputs": [],
   "source": [
    "def bisseccao(f, a, b, e):\n",
    "    isRoot = false\n",
    "    while isRoot == false:\n",
    "        ptoMedio = (a + b)/2\n",
    "        isRoot = abs(f(ptoMedio)) <= e\n",
    "        if f(a)*f(ptoMedio) < 0:\n",
    "            b = x\n",
    "        else:\n",
    "            a = x\n",
    "    return ptoMedio"
   ]
  },
  {
   "cell_type": "code",
   "execution_count": null,
   "metadata": {},
   "outputs": [],
   "source": []
  }
 ],
 "metadata": {
  "kernelspec": {
   "display_name": "Python 3",
   "language": "python",
   "name": "python3"
  },
  "language_info": {
   "codemirror_mode": {
    "name": "ipython",
    "version": 3
   },
   "file_extension": ".py",
   "mimetype": "text/x-python",
   "name": "python",
   "nbconvert_exporter": "python",
   "pygments_lexer": "ipython3",
   "version": "3.7.3"
  }
 },
 "nbformat": 4,
 "nbformat_minor": 2
}
