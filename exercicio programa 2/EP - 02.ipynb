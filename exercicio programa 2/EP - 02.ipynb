{
 "cells": [
  {
   "cell_type": "markdown",
   "metadata": {},
   "source": [
    "## Eric Satoshi Suzuki Kishimoto\n",
    "RA: 233974"
   ]
  },
  {
   "cell_type": "code",
   "execution_count": 15,
   "metadata": {},
   "outputs": [],
   "source": [
    "#importação de pacotes \n",
    "from scipy import integrate\n",
    "from math import sqrt\n",
    "from numpy import arange\n",
    "from matplotlib import pyplot"
   ]
  },
  {
   "cell_type": "code",
   "execution_count": 16,
   "metadata": {},
   "outputs": [],
   "source": [
    "# funcao para calcular a integral da função pelo método do trapézio\n",
    "# f: função a ser integrada\n",
    "# a: limite inferior da integral\n",
    "# b: limite superior da inetegral\n",
    "# n: números de intervalos que o graficos será dividido\n",
    "def integral(f, x, a, b, n):\n",
    "    h = (b - a)/n\n",
    "    integral = 0\n",
    "    # somatória de trapézios\n",
    "    for i in arange(a+h, b, h):\n",
    "        integral += (h/2)*f(x, i)\n",
    "    integral *= 2\n",
    "    integral += (h/2)*f(x, a)\n",
    "    integral += (h/2)*f(x, b)\n",
    "    return integral"
   ]
  },
  {
   "cell_type": "code",
   "execution_count": 17,
   "metadata": {},
   "outputs": [],
   "source": [
    "x0 = 0.005\n",
    "yinf = 0.650\n",
    "# definição da função\n",
    "g = lambda x, y: y**2/sqrt(x**2 + y**2)\n",
    "f = lambda x: x - x0 - 3 * (integral(g, x, x0, yinf, 100))"
   ]
  },
  {
   "cell_type": "code",
   "execution_count": 18,
   "metadata": {},
   "outputs": [],
   "source": [
    "# método da bissecção\n",
    "# f: função passada\n",
    "# a: primeiro chute\n",
    "# b: segundo chute\n",
    "# e: taxa de erro\n",
    "def bisseccao(f, a, b, e):\n",
    "    isRoot = False\n",
    "    while isRoot == False:\n",
    "        ptoMedio = (a + b)/2\n",
    "        isRoot = abs(f(ptoMedio)) <= e\n",
    "        if f(a)*f(ptoMedio) < 0:\n",
    "            b = ptoMedio\n",
    "        else:\n",
    "            a = ptoMedio\n",
    "    return ptoMedio"
   ]
  },
  {
   "cell_type": "code",
   "execution_count": 19,
   "metadata": {},
   "outputs": [
    {
     "data": {
      "text/plain": [
       "0.4382679462432862"
      ]
     },
     "execution_count": 19,
     "metadata": {},
     "output_type": "execute_result"
    }
   ],
   "source": [
    "bisseccao(f, 0.2, 0.6, 1*10**-8)"
   ]
  },
  {
   "cell_type": "code",
   "execution_count": 20,
   "metadata": {
    "scrolled": true
   },
   "outputs": [
    {
     "data": {
      "text/plain": [
       "[<matplotlib.lines.Line2D at 0x1a164a62c18>]"
      ]
     },
     "execution_count": 20,
     "metadata": {},
     "output_type": "execute_result"
    },
    {
     "data": {
      "image/png": "[encoded data removed]",
      "text/plain": [
       "<Figure size 432x288 with 1 Axes>"
      ]
     },
     "metadata": {
      "needs_background": "light"
     },
     "output_type": "display_data"
    }
   ],
   "source": [
    "variavel = []\n",
    "funcao = []\n",
    "for j in arange(0.4382679462432862, 0.6, 0.0065):\n",
    "    variavel.append(j)\n",
    "    funcao.append(f(j))\n",
    "pyplot.plot(variavel, funcao)"
   ]
  },
  {
   "cell_type": "markdown",
   "metadata": {},
   "source": [
    "Pelo método da bissecção, determinou-se que a raíz da função é igual a 0.4382679462432862"
   ]
  },
  {
   "cell_type": "code",
   "execution_count": null,
   "metadata": {},
   "outputs": [],
   "source": []
  }
 ],
 "metadata": {
  "kernelspec": {
   "display_name": "Python 3",
   "language": "python",
   "name": "python3"
  },
  "language_info": {
   "codemirror_mode": {
    "name": "ipython",
    "version": 3
   },
   "file_extension": ".py",
   "mimetype": "text/x-python",
   "name": "python",
   "nbconvert_exporter": "python",
   "pygments_lexer": "ipython3",
   "version": "3.7.3"
  }
 },
 "nbformat": 4,
 "nbformat_minor": 2
}
