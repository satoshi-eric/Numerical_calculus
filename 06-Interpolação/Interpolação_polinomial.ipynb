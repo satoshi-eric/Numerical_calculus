{
 "cells": [
  {
   "cell_type": "markdown",
   "metadata": {},
   "source": [
    "Interpolação"
   ]
  },
  {
   "cell_type": "code",
   "execution_count": 34,
   "metadata": {},
   "outputs": [],
   "source": [
    "# importação de bibliotecas\n",
    "from __future__ import division\n",
    "import numpy as np\n",
    "from numpy import linalg\n",
    "from numpy.polynomial import polynomial as poly\n",
    "import matplotlib.pyplot as plt"
   ]
  },
  {
   "cell_type": "code",
   "execution_count": 70,
   "metadata": {},
   "outputs": [],
   "source": [
    "# listas com valores de x e y para cada uma das coordenadas\n",
    "xi = np.array([0,1,2,3], dtype='double')\n",
    "yi = np.array([1,6,5,-8], dtype='double')"
   ]
  },
  {
   "cell_type": "code",
   "execution_count": 80,
   "metadata": {},
   "outputs": [
    {
     "data": {
      "text/plain": [
       "array([-1.00000000e+00, -3.55271368e-15,  6.00000000e+00,  1.00000000e+00])"
      ]
     },
     "execution_count": 80,
     "metadata": {},
     "output_type": "execute_result"
    }
   ],
   "source": [
    "# Interpolação polinomial\n",
    "\"\"\"\n",
    "Através das coordenadas x e y, calcula-se a função polinomial \n",
    "A: matriz de constantes\n",
    "a: constantes da função polinommial\n",
    "\"\"\"\n",
    "A = np.array([xi**3,xi**2,xi**1,xi**0]).transpose()\n",
    "a = np.linalg.inv(A).dot(yi);\n",
    "a\n",
    "# -x**3 +6x +1"
   ]
  },
  {
   "cell_type": "code",
   "execution_count": 97,
   "metadata": {},
   "outputs": [
    {
     "data": {
      "image/png": "[encoded data removed]",
      "text/plain": [
       "<Figure size 432x288 with 1 Axes>"
      ]
     },
     "metadata": {
      "needs_background": "light"
     },
     "output_type": "display_data"
    }
   ],
   "source": [
    "# Plotando o gráfico\n",
    "\"\"\"\n",
    "linspace: espaço em x onde a função será localizada\n",
    "plot: plota a função\n",
    "grid: mostra as grades\n",
    "\"\"\"\n",
    "xx = np.linspace(-0.5,3.25);\n",
    "plt.plot(xi,yi,'ro',xx,np.polyval(a,xx))\n",
    "plt.grid()\n",
    "plt.show()"
   ]
  },
  {
   "cell_type": "code",
   "execution_count": null,
   "metadata": {},
   "outputs": [],
   "source": []
  },
  {
   "cell_type": "code",
   "execution_count": null,
   "metadata": {},
   "outputs": [],
   "source": []
  },
  {
   "cell_type": "code",
   "execution_count": null,
   "metadata": {},
   "outputs": [],
   "source": []
  },
  {
   "cell_type": "code",
   "execution_count": null,
   "metadata": {},
   "outputs": [],
   "source": []
  },
  {
   "cell_type": "code",
   "execution_count": null,
   "metadata": {},
   "outputs": [],
   "source": []
  }
 ],
 "metadata": {
  "kernelspec": {
   "display_name": "Python 3",
   "language": "python",
   "name": "python3"
  },
  "language_info": {
   "codemirror_mode": {
    "name": "ipython",
    "version": 3
   },
   "file_extension": ".py",
   "mimetype": "text/x-python",
   "name": "python",
   "nbconvert_exporter": "python",
   "pygments_lexer": "ipython3",
   "version": "3.7.3"
  }
 },
 "nbformat": 4,
 "nbformat_minor": 2
}
